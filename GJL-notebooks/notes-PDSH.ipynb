{
 "cells": [
  {
   "cell_type": "raw",
   "metadata": {},
   "source": [
    "---\n",
    "title: \"Notes on Python Data Science Handbook\"\n",
    "author: 'Gary Larson'\n",
    "date: '2018-08-24'\n",
    "slug: notes-on-python-data-science-handbook\n",
    "tags:\n",
    "  - python\n",
    "categories: []\n",
    "subtitle: ''\n",
    "menu: blog\n",
    "weight: 10\n",
    "draft: false\n",
    "---"
   ]
  },
  {
   "cell_type": "markdown",
   "metadata": {},
   "source": [
    "This notebook contains notes I made while studying topics from the Python Data Science Handbook by Jake Vanderplas. His Github repo of the book is [here](https://github.com/jakevdp/PythonDataScienceHandbook). I forked the repo, and that clone is located on my local filesystem at \n",
    "```\n",
    "~/github/jakevdp_PythonDataScienceHandbook\n",
    "```"
   ]
  },
  {
   "cell_type": "markdown",
   "metadata": {},
   "source": [
    "# 3.01 - Introducing Pandas objects\n",
    "\n",
    "## The Pandas Index object (p. 105)"
   ]
  },
  {
   "cell_type": "markdown",
   "metadata": {},
   "source": [
    "Index objects are immutable. They can also be treated as ordered sets because \n",
    "\n",
    "> (p106) The `Index` object follows many of the conventions used by Python's built-in `set` data structure, so that unions, intersections, differences, and other combinations can be computed in a familiar way."
   ]
  },
  {
   "cell_type": "code",
   "execution_count": 3,
   "metadata": {},
   "outputs": [
    {
     "data": {
      "text/plain": [
       "Int64Index([3, 5, 7], dtype='int64')"
      ]
     },
     "execution_count": 3,
     "metadata": {},
     "output_type": "execute_result"
    }
   ],
   "source": [
    "import pandas as pd\n",
    "indA = pd.Index([1,3,5,7,9])\n",
    "indB = pd.Index([2,3,5,7,11])\n",
    "indA & indB # intersection"
   ]
  },
  {
   "cell_type": "markdown",
   "metadata": {},
   "source": [
    "# Orphaned notes"
   ]
  },
  {
   "cell_type": "markdown",
   "metadata": {},
   "source": [
    "- In Python, everything's an object, which means many \"things\" have two ways of calling related methods: the object-oriented way and the non object-oriented way. \n",
    "    - _I thought the good code for this idea was around the Pandas Index object (p105 or so), but on second look, I can't find it there._"
   ]
  },
  {
   "cell_type": "code",
   "execution_count": null,
   "metadata": {},
   "outputs": [],
   "source": []
  }
 ],
 "metadata": {
  "kernelspec": {
   "display_name": "Python 3",
   "language": "python",
   "name": "python3"
  },
  "language_info": {
   "codemirror_mode": {
    "name": "ipython",
    "version": 3
   },
   "file_extension": ".py",
   "mimetype": "text/x-python",
   "name": "python",
   "nbconvert_exporter": "python",
   "pygments_lexer": "ipython3",
   "version": "3.6.5"
  }
 },
 "nbformat": 4,
 "nbformat_minor": 2
}
